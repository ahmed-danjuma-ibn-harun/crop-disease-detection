{
 "cells": [
  {
   "cell_type": "code",
   "execution_count": 1,
   "metadata": {},
   "outputs": [
    {
     "name": "stderr",
     "output_type": "stream",
     "text": [
      "D:\\Anaconda3\\lib\\site-packages\\h5py\\__init__.py:36: FutureWarning: Conversion of the second argument of issubdtype from `float` to `np.floating` is deprecated. In future, it will be treated as `np.float64 == np.dtype(float).type`.\n",
      "  from ._conv import register_converters as _register_converters\n"
     ]
    }
   ],
   "source": [
    "from tensorflow.python.keras.preprocessing.image import ImageDataGenerator\n",
    "from tensorflow.python.keras.optimizers import Adam\n",
    "from tensorflow.python.keras.preprocessing.image import img_to_array\n",
    "from sklearn.preprocessing import MultiLabelBinarizer\n",
    "from sklearn.model_selection import train_test_split\n",
    "from crop_model import SmallerVGGNet\n",
    "import matplotlib.pyplot as plt\n",
    "from imutils import paths\n",
    "import numpy as np\n",
    "import argparse\n",
    "import random\n",
    "import pickle\n",
    "import cv2\n",
    "import os\n"
   ]
  },
  {
   "cell_type": "code",
   "execution_count": 2,
   "metadata": {},
   "outputs": [],
   "source": [
    "args = {\n",
    "        \"dataset\":\"E:/crop detection/crop dis/dataset\",\n",
    "        \"model\":\"E:/crop detection/crop dis/output/crop.model\",\n",
    "        \"labelbin\":\"E:/crop detection/crop dis/output/category_lb.pickle\",\n",
    "        #\"colorbin\":\"F:/laptop/laptop kares/multi-output-classification/output/color_lb.pickle\",\n",
    "        \"plot\":\"E:/crop detection/crop dis/output/output_accs.jpg\"\n",
    "\n",
    "        }\n",
    "\n"
   ]
  },
  {
   "cell_type": "code",
   "execution_count": 3,
   "metadata": {},
   "outputs": [],
   "source": [
    "EPOCHS = 20\n",
    "INIT_LR = 1e-3\n",
    "BS = 6\n",
    "IMAGE_DIMS = (96, 96, 3)"
   ]
  },
  {
   "cell_type": "code",
   "execution_count": 4,
   "metadata": {},
   "outputs": [
    {
     "name": "stdout",
     "output_type": "stream",
     "text": [
      "[INFO] loading images...\n"
     ]
    }
   ],
   "source": [
    "print(\"[INFO] loading images...\")\n",
    "imagePaths = sorted(list(paths.list_images(args[\"dataset\"])))\n",
    "random.seed(42)\n",
    "random.shuffle(imagePaths)"
   ]
  },
  {
   "cell_type": "code",
   "execution_count": 5,
   "metadata": {},
   "outputs": [],
   "source": [
    "data = []\n",
    "labels = []"
   ]
  },
  {
   "cell_type": "code",
   "execution_count": 6,
   "metadata": {},
   "outputs": [],
   "source": [
    "for imagePath in imagePaths:\n",
    "    # load the image, pre-process it, and store it in the data list\n",
    "    image = cv2.imread(imagePath)\n",
    "    image = cv2.resize(image, (IMAGE_DIMS[1], IMAGE_DIMS[0]))\n",
    "    image = img_to_array(image)\n",
    "    data.append(image)\n",
    "    # extract set of class labels from the image path and update the\n",
    "    # labels list\n",
    "    l = label = imagePath.split(os.path.sep)[-2].split(\"_\")\n",
    "    labels.append(l)"
   ]
  },
  {
   "cell_type": "code",
   "execution_count": 7,
   "metadata": {},
   "outputs": [
    {
     "name": "stdout",
     "output_type": "stream",
     "text": [
      "[INFO] data matrix: 3000 images (648.00MB)\n"
     ]
    }
   ],
   "source": [
    "data = np.array(data, dtype=\"float\") / 255.0\n",
    "labels = np.array(labels)\n",
    "print(\"[INFO] data matrix: {} images ({:.2f}MB)\".format(\n",
    "    len(imagePaths), data.nbytes / (1024 * 1000.0)))"
   ]
  },
  {
   "cell_type": "code",
   "execution_count": 8,
   "metadata": {},
   "outputs": [
    {
     "name": "stdout",
     "output_type": "stream",
     "text": [
      "[INFO] class labels:\n",
      "1. bacterial\n",
      "2. healthy\n",
      "3. lateblight\n"
     ]
    }
   ],
   "source": [
    "print(\"[INFO] class labels:\")\n",
    "mlb = MultiLabelBinarizer()\n",
    "labels = mlb.fit_transform(labels)\n",
    "# loop over each of the possible class labels and show them\n",
    "for (i, label) in enumerate(mlb.classes_):\n",
    "    print(\"{}. {}\".format(i + 1, label))"
   ]
  },
  {
   "cell_type": "code",
   "execution_count": 9,
   "metadata": {},
   "outputs": [],
   "source": [
    "(trainX, testX, trainY, testY) = train_test_split(data,\n",
    "    labels, test_size=0.2, random_state=42)\n",
    "# construct the image generator for data augmentation\n",
    "aug = ImageDataGenerator(rotation_range=25, width_shift_range=0.1,\n",
    "    height_shift_range=0.1, shear_range=0.2, zoom_range=0.2,\n",
    "    horizontal_flip=True, fill_mode=\"nearest\")\n",
    "\n"
   ]
  },
  {
   "cell_type": "code",
   "execution_count": 10,
   "metadata": {},
   "outputs": [
    {
     "name": "stdout",
     "output_type": "stream",
     "text": [
      "[INFO] compiling model...\n",
      "WARNING:tensorflow:From D:\\Anaconda3\\lib\\site-packages\\tensorflow\\python\\ops\\resource_variable_ops.py:435: colocate_with (from tensorflow.python.framework.ops) is deprecated and will be removed in a future version.\n",
      "Instructions for updating:\n",
      "Colocations handled automatically by placer.\n",
      "WARNING:tensorflow:From D:\\Anaconda3\\lib\\site-packages\\tensorflow\\python\\keras\\layers\\core.py:143: calling dropout (from tensorflow.python.ops.nn_ops) with keep_prob is deprecated and will be removed in a future version.\n",
      "Instructions for updating:\n",
      "Please use `rate` instead of `keep_prob`. Rate should be set to `rate = 1 - keep_prob`.\n"
     ]
    }
   ],
   "source": [
    "print(\"[INFO] compiling model...\")\n",
    "model = SmallerVGGNet.build(\n",
    "    width=IMAGE_DIMS[1], height=IMAGE_DIMS[0],\n",
    "    depth=IMAGE_DIMS[2], classes=len(mlb.classes_),\n",
    "    finalAct=\"sigmoid\")"
   ]
  },
  {
   "cell_type": "code",
   "execution_count": 11,
   "metadata": {},
   "outputs": [],
   "source": [
    "# initialize the optimizer\n",
    "opt = Adam(lr=INIT_LR, decay=INIT_LR / EPOCHS)\n",
    "\n",
    "model.compile(loss=\"binary_crossentropy\", optimizer=opt,\n",
    "    metrics=[\"accuracy\"])"
   ]
  },
  {
   "cell_type": "code",
   "execution_count": 12,
   "metadata": {},
   "outputs": [
    {
     "name": "stdout",
     "output_type": "stream",
     "text": [
      "[INFO] training network...\n",
      "WARNING:tensorflow:From D:\\Anaconda3\\lib\\site-packages\\tensorflow\\python\\ops\\math_ops.py:3066: to_int32 (from tensorflow.python.ops.math_ops) is deprecated and will be removed in a future version.\n",
      "Instructions for updating:\n",
      "Use tf.cast instead.\n",
      "Epoch 1/20\n",
      "600/600 [==============================] - 12s 20ms/sample - loss: 1.5835 - acc: 0.6122\n",
      "400/400 [==============================] - 372s 929ms/step - loss: 0.4503 - acc: 0.8276 - val_loss: 1.5835 - val_acc: 0.6122\n",
      "Epoch 2/20\n",
      "600/600 [==============================] - 13s 21ms/sample - loss: 2.4712 - acc: 0.5933\n",
      "400/400 [==============================] - 413s 1s/step - loss: 0.3603 - acc: 0.8586 - val_loss: 2.4712 - val_acc: 0.5933\n",
      "Epoch 3/20\n",
      "600/600 [==============================] - 13s 22ms/sample - loss: 0.8621 - acc: 0.7306\n",
      "400/400 [==============================] - 427s 1s/step - loss: 0.2857 - acc: 0.8881 - val_loss: 0.8621 - val_acc: 0.7306\n",
      "Epoch 4/20\n",
      "600/600 [==============================] - 13s 22ms/sample - loss: 0.2855 - acc: 0.8828\n",
      "400/400 [==============================] - 431s 1s/step - loss: 0.2638 - acc: 0.8986 - val_loss: 0.2855 - val_acc: 0.8828\n",
      "Epoch 5/20\n",
      "600/600 [==============================] - 13s 22ms/sample - loss: 0.2620 - acc: 0.8872\n",
      "400/400 [==============================] - 435s 1s/step - loss: 0.2247 - acc: 0.9136 - val_loss: 0.2620 - val_acc: 0.8872\n",
      "Epoch 6/20\n",
      "600/600 [==============================] - 13s 22ms/sample - loss: 0.8273 - acc: 0.7956\n",
      "400/400 [==============================] - 432s 1s/step - loss: 0.2120 - acc: 0.9203 - val_loss: 0.8273 - val_acc: 0.7956\n",
      "Epoch 7/20\n",
      "600/600 [==============================] - 13s 22ms/sample - loss: 0.1098 - acc: 0.9594\n",
      "400/400 [==============================] - 425s 1s/step - loss: 0.2078 - acc: 0.9178 - val_loss: 0.1098 - val_acc: 0.9594\n",
      "Epoch 8/20\n",
      "600/600 [==============================] - 13s 22ms/sample - loss: 1.6407 - acc: 0.7500\n",
      "400/400 [==============================] - 427s 1s/step - loss: 0.2173 - acc: 0.9182 - val_loss: 1.6407 - val_acc: 0.7500\n",
      "Epoch 9/20\n",
      "600/600 [==============================] - 13s 21ms/sample - loss: 0.8438 - acc: 0.7467\n",
      "400/400 [==============================] - 443s 1s/step - loss: 0.2332 - acc: 0.9136 - val_loss: 0.8438 - val_acc: 0.7467\n",
      "Epoch 10/20\n",
      "600/600 [==============================] - 13s 22ms/sample - loss: 1.0008 - acc: 0.6794\n",
      "400/400 [==============================] - 437s 1s/step - loss: 0.2089 - acc: 0.9174 - val_loss: 1.0008 - val_acc: 0.6794\n",
      "Epoch 11/20\n",
      "600/600 [==============================] - 13s 21ms/sample - loss: 0.1787 - acc: 0.9411\n",
      "400/400 [==============================] - 437s 1s/step - loss: 0.1735 - acc: 0.9356 - val_loss: 0.1787 - val_acc: 0.9411\n",
      "Epoch 12/20\n",
      "600/600 [==============================] - 13s 22ms/sample - loss: 1.3151 - acc: 0.6867\n",
      "400/400 [==============================] - 454s 1s/step - loss: 0.1783 - acc: 0.9336 - val_loss: 1.3151 - val_acc: 0.6867\n",
      "Epoch 13/20\n",
      "600/600 [==============================] - 14s 23ms/sample - loss: 0.0633 - acc: 0.9733\n",
      "400/400 [==============================] - 442s 1s/step - loss: 0.1729 - acc: 0.9367 - val_loss: 0.0633 - val_acc: 0.9733\n",
      "Epoch 14/20\n",
      "600/600 [==============================] - 14s 23ms/sample - loss: 0.0582 - acc: 0.9783\n",
      "400/400 [==============================] - 441s 1s/step - loss: 0.2090 - acc: 0.9194 - val_loss: 0.0582 - val_acc: 0.9783\n",
      "Epoch 15/20\n",
      "600/600 [==============================] - 13s 22ms/sample - loss: 0.2436 - acc: 0.8994\n",
      "400/400 [==============================] - 441s 1s/step - loss: 0.1804 - acc: 0.9324 - val_loss: 0.2436 - val_acc: 0.8994\n",
      "Epoch 16/20\n",
      "600/600 [==============================] - 14s 23ms/sample - loss: 0.6356 - acc: 0.8311\n",
      "400/400 [==============================] - 440s 1s/step - loss: 0.1968 - acc: 0.9286 - val_loss: 0.6356 - val_acc: 0.8311\n",
      "Epoch 17/20\n",
      "600/600 [==============================] - 14s 23ms/sample - loss: 0.1133 - acc: 0.9556\n",
      "400/400 [==============================] - 440s 1s/step - loss: 0.1814 - acc: 0.9336 - val_loss: 0.1133 - val_acc: 0.9556\n",
      "Epoch 18/20\n",
      "600/600 [==============================] - 13s 22ms/sample - loss: 0.7617 - acc: 0.7911\n",
      "400/400 [==============================] - 439s 1s/step - loss: 0.1473 - acc: 0.9464 - val_loss: 0.7617 - val_acc: 0.7911\n",
      "Epoch 19/20\n",
      "600/600 [==============================] - 14s 23ms/sample - loss: 1.0636 - acc: 0.7456\n",
      "400/400 [==============================] - 441s 1s/step - loss: 0.1769 - acc: 0.9357 - val_loss: 1.0636 - val_acc: 0.7456\n",
      "Epoch 20/20\n",
      "600/600 [==============================] - 14s 23ms/sample - loss: 0.1205 - acc: 0.9644\n",
      "400/400 [==============================] - 440s 1s/step - loss: 0.1663 - acc: 0.9376 - val_loss: 0.1205 - val_acc: 0.9644\n"
     ]
    }
   ],
   "source": [
    "print(\"[INFO] training network...\")\n",
    "H = model.fit_generator(\n",
    "    aug.flow(trainX, trainY, batch_size=BS),\n",
    "    validation_data=(testX, testY),\n",
    "    steps_per_epoch=len(trainX) // BS,\n",
    "    epochs=EPOCHS, verbose=1)"
   ]
  },
  {
   "cell_type": "code",
   "execution_count": 13,
   "metadata": {},
   "outputs": [
    {
     "name": "stdout",
     "output_type": "stream",
     "text": [
      "[INFO] serializing network...\n"
     ]
    }
   ],
   "source": [
    "\n",
    "print(\"[INFO] serializing network...\")\n",
    "model.save(args[\"model\"])"
   ]
  },
  {
   "cell_type": "code",
   "execution_count": 14,
   "metadata": {},
   "outputs": [
    {
     "name": "stdout",
     "output_type": "stream",
     "text": [
      "[INFO] serializing label binarizer...\n"
     ]
    },
    {
     "data": {
      "image/png": "[encoded data removed]",
      "text/plain": [
       "<Figure size 432x288 with 1 Axes>"
      ]
     },
     "metadata": {},
     "output_type": "display_data"
    }
   ],
   "source": [
    "print(\"[INFO] serializing label binarizer...\")\n",
    "f = open(args[\"labelbin\"], \"wb\")\n",
    "f.write(pickle.dumps(mlb))\n",
    "f.close()\n",
    "\n",
    "plt.style.use(\"ggplot\")\n",
    "plt.figure()\n",
    "N = EPOCHS\n",
    "plt.plot(np.arange(0, N), H.history[\"loss\"], label=\"train_loss\")\n",
    "plt.plot(np.arange(0, N), H.history[\"val_loss\"], label=\"val_loss\")\n",
    "plt.plot(np.arange(0, N), H.history[\"acc\"], label=\"train_acc\")\n",
    "plt.plot(np.arange(0, N), H.history[\"val_acc\"], label=\"val_acc\")\n",
    "plt.title(\"Training Loss and Accuracy\")\n",
    "plt.xlabel(\"Epoch #\")\n",
    "plt.ylabel(\"Loss/Accuracy\")\n",
    "plt.legend(loc=\"upper left\")\n",
    "plt.savefig(args[\"plot\"])"
   ]
  },
  {
   "cell_type": "code",
   "execution_count": null,
   "metadata": {},
   "outputs": [],
   "source": []
  }
 ],
 "metadata": {
  "kernelspec": {
   "display_name": "Python 3",
   "language": "python",
   "name": "python3"
  },
  "language_info": {
   "codemirror_mode": {
    "name": "ipython",
    "version": 3
   },
   "file_extension": ".py",
   "mimetype": "text/x-python",
   "name": "python",
   "nbconvert_exporter": "python",
   "pygments_lexer": "ipython3",
   "version": "3.6.5"
  }
 },
 "nbformat": 4,
 "nbformat_minor": 2
}
